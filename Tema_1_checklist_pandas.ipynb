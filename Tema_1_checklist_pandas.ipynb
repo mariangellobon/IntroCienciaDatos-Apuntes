{
  "nbformat": 4,
  "nbformat_minor": 0,
  "metadata": {
    "colab": {
      "provenance": []
    },
    "kernelspec": {
      "name": "python3",
      "display_name": "Python 3"
    },
    "language_info": {
      "name": "python"
    }
  },
  "cells": [
    {
      "cell_type": "markdown",
      "source": [
        "# Básico"
      ],
      "metadata": {
        "id": "zCqQvIqKkFVa"
      }
    },
    {
      "cell_type": "markdown",
      "source": [
        "## Selección y Filtrado de Datos\n",
        "\n",
        "Descripción: Uso de loc, iloc, at e iat para acceder a datos específicos.\n"
      ],
      "metadata": {
        "id": "EhP3586ajkiJ"
      }
    },
    {
      "cell_type": "code",
      "execution_count": null,
      "metadata": {
        "id": "3ZAdajrwjeQo"
      },
      "outputs": [],
      "source": [
        "import pandas as pd\n",
        "\n",
        "# Crear un DataFrame de ejemplo\n",
        "data = {\n",
        "    'Nombre': ['Ana', 'Luis', 'Carlos', 'Marta'],\n",
        "    'Edad': [23, 35, 45, 29],\n",
        "    'Ciudad': ['Madrid', 'Barcelona', 'Valencia', 'Sevilla']\n",
        "}\n",
        "df = pd.DataFrame(data)\n",
        "\n",
        "# Selección con loc (por etiqueta)\n",
        "print(df.loc[1, 'Nombre'])  # Output: Luis\n",
        "\n",
        "# Selección con iloc (por posición)\n",
        "print(df.iloc[2, 2])        # Output: Valencia\n",
        "\n",
        "# Filtrado de filas\n",
        "mayores_30 = df[df['Edad'] > 30]\n",
        "print(mayores_30)\n"
      ]
    },
    {
      "cell_type": "markdown",
      "source": [
        "## Manejo de Datos Faltantes\n",
        "\n",
        "Descripción: Uso de dropna, fillna e interpolate para gestionar valores ausentes."
      ],
      "metadata": {
        "id": "7nruItmHjtGI"
      }
    },
    {
      "cell_type": "code",
      "execution_count": null,
      "metadata": {
        "id": "FQxqWey-jqx0"
      },
      "outputs": [],
      "source": [
        "import pandas as pd\n",
        "import numpy as np\n",
        "\n",
        "# Crear un DataFrame con valores faltantes\n",
        "data = {\n",
        "    'A': [1, 2, np.nan, 4],\n",
        "    'B': [5, np.nan, np.nan, 8],\n",
        "    'C': [9, 10, 11, 12]\n",
        "}\n",
        "df = pd.DataFrame(data)\n",
        "\n",
        "# Eliminar filas con cualquier valor faltante\n",
        "df_drop = df.dropna()\n",
        "print(df_drop)\n",
        "\n",
        "# Rellenar valores faltantes con un valor específico\n",
        "df_fill = df.fillna(0)\n",
        "print(df_fill)\n",
        "\n",
        "# Interpolar valores faltantes\n",
        "df_interpolate = df.interpolate()\n",
        "print(df_interpolate)\n"
      ]
    },
    {
      "cell_type": "markdown",
      "source": [
        "## Agrupación de Datos con groupby\n",
        "\n",
        "Descripción: Agrupar datos y aplicar funciones de agregación.\n"
      ],
      "metadata": {
        "id": "X58NOvE_jti4"
      }
    },
    {
      "cell_type": "code",
      "source": [
        "import pandas as pd\n",
        "\n",
        "# Crear un DataFrame de ejemplo\n",
        "data = {\n",
        "    'Departamento': ['Ventas', 'Ventas', 'HR', 'HR', 'IT'],\n",
        "    'Empleado': ['Ana', 'Luis', 'Carlos', 'Marta', 'Pedro'],\n",
        "    'Salario': [50000, 60000, 45000, 52000, 58000]\n",
        "}\n",
        "df = pd.DataFrame(data)\n",
        "\n",
        "# Agrupar por Departamento y calcular el salario promedio\n",
        "promedio_salario = df.groupby('Departamento')['Salario'].mean()\n",
        "print(promedio_salario)\n"
      ],
      "metadata": {
        "id": "4wxotAXEjt_Z"
      },
      "execution_count": null,
      "outputs": []
    },
    {
      "cell_type": "markdown",
      "source": [
        "## Fusión y Unión de DataFrames\n",
        "\n",
        "Descripción: Uso de merge, join y concat para combinar DataFrames.\n"
      ],
      "metadata": {
        "id": "WVVPfmUnjui3"
      }
    },
    {
      "cell_type": "code",
      "source": [
        "import pandas as pd\n",
        "\n",
        "# Crear dos DataFrames de ejemplo\n",
        "df1 = pd.DataFrame({\n",
        "    'Empleado': ['Ana', 'Luis', 'Carlos'],\n",
        "    'Departamento': ['Ventas', 'Ventas', 'HR']\n",
        "})\n",
        "\n",
        "df2 = pd.DataFrame({\n",
        "    'Empleado': ['Ana', 'Luis', 'Carlos'],\n",
        "    'Salario': [50000, 60000, 45000]\n",
        "})\n",
        "\n",
        "# Fusionar los DataFrames en base a 'Empleado'\n",
        "df_merged = pd.merge(df1, df2, on='Empleado')\n",
        "print(df_merged)\n"
      ],
      "metadata": {
        "id": "z5Qp9L1ujvOT"
      },
      "execution_count": null,
      "outputs": []
    },
    {
      "cell_type": "markdown",
      "source": [
        "## Manejo de Tipos de Datos y Conversión\n",
        "\n",
        "Descripción: Convertir tipos de datos y optimizar el uso de memoria.\n"
      ],
      "metadata": {
        "id": "7pakHpgtkQD4"
      }
    },
    {
      "cell_type": "code",
      "source": [
        "import pandas as pd\n",
        "\n",
        "# Crear un DataFrame con diferentes tipos de datos\n",
        "data = {\n",
        "    'A': [1, 2, 3],\n",
        "    'B': ['4', '5', '6'],\n",
        "    'C': ['2024-01-01', '2024-02-01', '2024-03-01']\n",
        "}\n",
        "df = pd.DataFrame(data)\n",
        "\n",
        "# Convertir columna B a entero\n",
        "df['B'] = df['B'].astype(int)\n",
        "\n",
        "# Convertir columna C a datetime\n",
        "df['C'] = pd.to_datetime(df['C'])\n",
        "\n",
        "print(df.dtypes)\n"
      ],
      "metadata": {
        "id": "8j68ccfFkC87"
      },
      "execution_count": null,
      "outputs": []
    },
    {
      "cell_type": "markdown",
      "source": [
        "# Avanzado"
      ],
      "metadata": {
        "id": "viW6nI9gkDji"
      }
    },
    {
      "cell_type": "markdown",
      "source": [
        "## Manipulación de Datos con pivot y melt\n",
        "\n",
        "Descripción: Reshape de datos para análisis"
      ],
      "metadata": {
        "id": "tHIDsnvxjvW4"
      }
    },
    {
      "cell_type": "code",
      "source": [
        "import pandas as pd\n",
        "\n",
        "# Crear un DataFrame de ejemplo\n",
        "data = {\n",
        "    'Empleado': ['Ana', 'Luis', 'Carlos'],\n",
        "    'Mes': ['Enero', 'Enero', 'Febrero'],\n",
        "    'Ventas': [2500, 3000, 2800]\n",
        "}\n",
        "df = pd.DataFrame(data)\n",
        "\n",
        "# Pivotar el DataFrame\n",
        "df_pivot = df.pivot(index='Empleado', columns='Mes', values='Ventas')\n",
        "print(df_pivot)\n",
        "\n",
        "# Fundir el DataFrame (melt)\n",
        "df_melt = df.pivot_table(index='Empleado', columns='Mes', values='Ventas').reset_index()\n",
        "df_melt = pd.melt(df_melt, id_vars=['Empleado'], value_vars=['Enero', 'Febrero'], var_name='Mes', value_name='Ventas')\n",
        "print(df_melt)\n"
      ],
      "metadata": {
        "id": "DT2I0dPFjvrL"
      },
      "execution_count": null,
      "outputs": []
    },
    {
      "cell_type": "markdown",
      "source": [
        "## Aplicación de Funciones con apply, map y applymap\n",
        "\n",
        "Descripción: Transformar datos aplicando funciones personalizadas.\n"
      ],
      "metadata": {
        "id": "xnjzw_PvjwNl"
      }
    },
    {
      "cell_type": "code",
      "source": [
        "import pandas as pd\n",
        "\n",
        "# Crear un DataFrame de ejemplo\n",
        "data = {\n",
        "    'Nombre': ['Ana', 'Luis', 'Carlos'],\n",
        "    'Edad': [23, 35, 45],\n",
        "    'Salario': [50000, 60000, 45000]\n",
        "}\n",
        "df = pd.DataFrame(data)\n",
        "\n",
        "# Aplicar una función a una columna usando apply\n",
        "df['Edad_doble'] = df['Edad'].apply(lambda x: x * 2)\n",
        "print(df)\n",
        "\n",
        "# Mapear valores usando map\n",
        "df['Nombre_mayus'] = df['Nombre'].map(str.upper)\n",
        "print(df)\n",
        "\n",
        "# Aplicar una función elemento a elemento usando applymap\n",
        "df_num = df[['Edad', 'Salario']]\n",
        "df_num = df_num.applymap(lambda x: x + 1000)\n",
        "print(df_num)\n"
      ],
      "metadata": {
        "id": "nPdHuzcvjwmS"
      },
      "execution_count": null,
      "outputs": []
    },
    {
      "cell_type": "markdown",
      "source": [
        "## Optimización del Rendimiento\n",
        "\n",
        "Descripción: Uso de operaciones vectorizadas y evitar bucles.\n"
      ],
      "metadata": {
        "id": "6m-L-KEljvzF"
      }
    },
    {
      "cell_type": "code",
      "source": [
        "import pandas as pd\n",
        "import numpy as np\n",
        "\n",
        "# Crear un DataFrame grande\n",
        "df = pd.DataFrame({\n",
        "    'A': np.random.randint(0, 100, size=1000000)\n",
        "})\n",
        "\n",
        "# Método ineficiente: usar un bucle\n",
        "# Sumar 1 a cada elemento\n",
        "# Este método es lento y no recomendado\n",
        "# df['A_plus1'] = 0\n",
        "# for i in range(len(df)):\n",
        "#     df.at[i, 'A_plus1'] = df.at[i, 'A'] + 1\n",
        "\n",
        "# Método eficiente: usar operaciones vectorizadas\n",
        "df['A_plus1'] = df['A'] + 1\n",
        "print(df.head())\n"
      ],
      "metadata": {
        "id": "n0h6p6DJjwIC"
      },
      "execution_count": null,
      "outputs": []
    }
  ]
}